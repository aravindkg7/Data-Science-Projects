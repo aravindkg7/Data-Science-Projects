{
 "cells": [
  {
   "cell_type": "markdown",
   "metadata": {},
   "source": [
    "### This notebook contains the analysis of London BnB Listings dataset for 6th September 2023"
   ]
  },
  {
   "cell_type": "markdown",
   "metadata": {},
   "source": [
    "Data can be downloaded from the link: http://insideairbnb.com/get-the-data.html"
   ]
  },
  {
   "cell_type": "code",
   "execution_count": null,
   "metadata": {},
   "outputs": [],
   "source": [
    "#Import the necessary libraries\n",
    "\n",
    "import pandas as pd\n",
    "import seaborn as sns\n",
    "import matplotlib.pyplot as plt\n",
    "\n",
    "sns.set_theme(style=\"whitegrid\")\n",
    "\n",
    "pd.set_option('display.max_rows', 100)\n",
    "pd.set_option('display.max_columns', 500)"
   ]
  },
  {
   "cell_type": "code",
   "execution_count": null,
   "metadata": {},
   "outputs": [],
   "source": [
    "#Read the data\n",
    "data = pd.read_csv(\"Data/LondonBnBListings.csv\")"
   ]
  },
  {
   "cell_type": "code",
   "execution_count": null,
   "metadata": {},
   "outputs": [],
   "source": [
    "#Let us see the shape of the data\n",
    "data.shape"
   ]
  },
  {
   "cell_type": "code",
   "execution_count": null,
   "metadata": {},
   "outputs": [],
   "source": [
    "#Let us explore few rows of the data to get a better picture\n",
    "data.describe()"
   ]
  },
  {
   "cell_type": "code",
   "execution_count": null,
   "metadata": {},
   "outputs": [],
   "source": [
    "#Let us explore few rows of the data and their corresponding values\n",
    "data.head(5)"
   ]
  },
  {
   "cell_type": "markdown",
   "metadata": {},
   "source": [
    "###### Based on the column values above, we can safely ignore the following columns: id, listing_url, scrape_id, last_scraped, source, name, description, neighborhood_overview, picture_url, host_url, host_location, host_about, host_response_time, host_thumbnail_url, host_picture_url, host_verifications, host_has_profile_pic, neighbourhood, neighbourhood_group_cleansed, property_type, bathrooms, bathrooms_text,  minimum_nights, maximum_nights, minimum_minimum_nights, maximum_minimum_nights, minimum_maximum_nights, maximum_maximum_nights, maximum_nights_avg_ntm, calendar_updated, has_availability, availability_60, availability_90, calendar_last_scraped, number_of_reviews_l30d, first_review, last_review, review_scores_cleanliness, review_scores_checkin, review_scores_communication, review_scores_location, calculated_host_listings_count_entire_homes, calculated_host_listings_count_private_rooms, calculated_host_listings_count_shared_rooms.\n",
    "\n",
    "The reasons are as follows:\n",
    "\n",
    "1. Some of the columns are redundant\n",
    "\n",
    "2. Some of the columns do not help in analysis such as urls\n",
    "\n",
    "3. Some of the columns have mostly null values"
   ]
  },
  {
   "cell_type": "code",
   "execution_count": null,
   "metadata": {},
   "outputs": [],
   "source": [
    "data.drop(['id', 'listing_url', 'scrape_id', 'last_scraped', 'source', 'name', 'description', 'neighborhood_overview', \n",
    "           'picture_url', 'host_url', 'host_location', 'host_about', 'host_response_time', 'host_thumbnail_url', \n",
    "           'host_picture_url', 'host_verifications', 'host_has_profile_pic', 'neighbourhood', 'neighbourhood_group_cleansed', \n",
    "           'bathrooms', 'bathrooms_text', 'minimum_nights', 'maximum_nights', 'minimum_minimum_nights', \n",
    "           'maximum_minimum_nights', 'minimum_maximum_nights', 'maximum_maximum_nights', 'calendar_updated', \n",
    "           'has_availability', 'availability_60', 'availability_90', 'calendar_last_scraped', 'number_of_reviews', \n",
    "           'number_of_reviews_l30d', 'first_review', 'last_review', 'review_scores_cleanliness', 'review_scores_checkin', \n",
    "           'review_scores_communication', 'review_scores_location', 'calculated_host_listings_count_entire_homes', \n",
    "           'calculated_host_listings_count_private_rooms', 'calculated_host_listings_count_shared_rooms'],axis=1, inplace=True)"
   ]
  },
  {
   "cell_type": "code",
   "execution_count": null,
   "metadata": {},
   "outputs": [],
   "source": [
    "#Recheck the shape of the data\n",
    "data.shape"
   ]
  },
  {
   "cell_type": "code",
   "execution_count": null,
   "metadata": {},
   "outputs": [],
   "source": [
    "#The price column is in the string format, convert the same to numeric format\n",
    "data['price'] = list(data['price'].str.replace('$',\"\").str.replace(',','').astype('float'))"
   ]
  },
  {
   "cell_type": "code",
   "execution_count": null,
   "metadata": {},
   "outputs": [],
   "source": [
    "#Distribution of price data\n",
    "data['price'].describe()"
   ]
  },
  {
   "cell_type": "code",
   "execution_count": null,
   "metadata": {},
   "outputs": [],
   "source": [
    "#Distribution of price data visually\n",
    "bx = sns.boxplot(data=data, x='price')\n",
    "bx.set(xlabel =\"Price ($)\", title ='Distribution of Price ($)')\n",
    "plt.show()"
   ]
  },
  {
   "cell_type": "code",
   "execution_count": null,
   "metadata": {},
   "outputs": [],
   "source": [
    "data[data['price']>2000].shape"
   ]
  },
  {
   "cell_type": "markdown",
   "metadata": {},
   "source": [
    "###### As observed in the box plot and the calculations above, a very small portion of the price values lie above 2000$ i.e., 0.279%. So we can safely drop those data points from our analysis."
   ]
  },
  {
   "cell_type": "code",
   "execution_count": null,
   "metadata": {},
   "outputs": [],
   "source": [
    "data = data[data['price'] <= 2000]\n",
    "data.shape"
   ]
  },
  {
   "cell_type": "code",
   "execution_count": null,
   "metadata": {},
   "outputs": [],
   "source": [
    "#Distribution of Number of reviews (last twelve months) for a listing\n",
    "data['number_of_reviews_ltm'].describe()"
   ]
  },
  {
   "cell_type": "markdown",
   "metadata": {},
   "source": [
    "**As per data dictionary of Airbnb, `number_of_reviews_ltm` is a calculated column the gives the number of reviews the listing has in the last twelve months. We can assume that more number of reviews (either good or bad) is proportional to the popularity of that particular listing. From the calculation above, over 25% of the data has the number of reviews more than 6. Therefore, we create a new column named `popularity1`.**"
   ]
  },
  {
   "cell_type": "code",
   "execution_count": null,
   "metadata": {},
   "outputs": [],
   "source": [
    "data['popularity1'] = data['number_of_reviews_ltm'] > 6"
   ]
  },
  {
   "cell_type": "code",
   "execution_count": null,
   "metadata": {},
   "outputs": [],
   "source": [
    "#Distribution of Availability of a listing for the next 365 days\n",
    "data['availability_365'].describe()"
   ]
  },
  {
   "cell_type": "markdown",
   "metadata": {},
   "source": [
    "**As per data dictionary of Airbnb, `availability_365` is a calculated column the gives the availability of the listing in the future. We can assume that less availability is proportional to the popularity of that particular listing. From the calculation above, around 50% of the data has availability less than 65 days. Therefore, we create a new column named `popularity2`.**"
   ]
  },
  {
   "cell_type": "code",
   "execution_count": null,
   "metadata": {},
   "outputs": [],
   "source": [
    "data['popularity2'] = data['availability_365'] <=65"
   ]
  },
  {
   "cell_type": "code",
   "execution_count": null,
   "metadata": {},
   "outputs": [],
   "source": [
    "#The column amenities contains a string of lists. We transform the same to list objects.\n",
    "data['amenities'] = data['amenities'].apply(lambda x: eval(x))"
   ]
  },
  {
   "cell_type": "markdown",
   "metadata": {},
   "source": []
  },
  {
   "cell_type": "markdown",
   "metadata": {},
   "source": [
    "##### **Motivation:** Business/Government wants to know popular neighbourhoods in terms of the number of listings in that neighbourhood, which will help them build amenities such as public transport, restaurants, shopping centres, salons etc.\n",
    "**Question 1:** What are the top few neighbourhoods (say 10-15) with maximum listings, which may help to set up business relevant to tourists, visitors or travellers?\n",
    "\n",
    "**Assumption:** More listings in an area may be due to high demand in the past by frequent visitors."
   ]
  },
  {
   "cell_type": "code",
   "execution_count": null,
   "metadata": {},
   "outputs": [],
   "source": [
    "#compute how many unique neighbourhood are there\n",
    "data['neighbourhood_cleansed'].nunique()"
   ]
  },
  {
   "cell_type": "code",
   "execution_count": null,
   "metadata": {},
   "outputs": [],
   "source": [
    "#Find out top 15 neighbourhood with maximum listings\n",
    "neighbourhood = data.groupby(['neighbourhood_cleansed']).size().sort_values(ascending=False).reset_index()\n",
    "neighbourhood.columns = ['Neighbourhood','Counts']\n",
    "neighbourhood.head(15)"
   ]
  },
  {
   "cell_type": "markdown",
   "metadata": {},
   "source": [
    "**Observation: The above 15 neighbourhoods with their corresponding number of listings covers around 80% of the listings in the data, which will be helpful for the business/government to extend or build facilities. From now on we will mostly concentrate on these neighbourhood listings**"
   ]
  },
  {
   "cell_type": "code",
   "execution_count": null,
   "metadata": {},
   "outputs": [],
   "source": [
    "#Extract the listings data corresponding to the top 15 neighbourhood\n",
    "neighbourhood_15 = data[[i in list(neighbourhood['Neighbourhood'][0:15]) for i in data['neighbourhood_cleansed']]]"
   ]
  },
  {
   "cell_type": "code",
   "execution_count": null,
   "metadata": {},
   "outputs": [],
   "source": [
    "#Visualize how the listings are distributed on a map based on latitude and longitude information\n",
    "plt.figure(figsize=(10,6), dpi = 150)\n",
    "\n",
    "# plotting data on chart \n",
    "vz = sns.scatterplot(data=neighbourhood_15, x='longitude',y='latitude',hue='neighbourhood_cleansed')\n",
    "sns.move_legend(vz, \"upper left\", bbox_to_anchor=(1, 1))\n",
    "\n",
    "#Add plot title\n",
    "plt.title('Visualization of property listings on London BnB listing on 6th Sep 2023')\n",
    "plt.show()"
   ]
  },
  {
   "cell_type": "code",
   "execution_count": null,
   "metadata": {},
   "outputs": [],
   "source": []
  },
  {
   "cell_type": "markdown",
   "metadata": {},
   "source": []
  }
 ],
 "metadata": {
  "kernelspec": {
   "display_name": "base",
   "language": "python",
   "name": "python3"
  },
  "language_info": {
   "codemirror_mode": {
    "name": "ipython",
    "version": 3
   },
   "file_extension": ".py",
   "mimetype": "text/x-python",
   "name": "python",
   "nbconvert_exporter": "python",
   "pygments_lexer": "ipython3",
   "version": "3.10.9"
  },
  "orig_nbformat": 4
 },
 "nbformat": 4,
 "nbformat_minor": 2
}
